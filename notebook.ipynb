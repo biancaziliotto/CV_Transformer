{
  "cells": [
    {
      "cell_type": "markdown",
      "metadata": {
        "id": "RJGrwq-I9Uxy"
      },
      "source": [
        "### 0. Use Google Colab\n",
        "(Sennò va stralento)"
      ]
    },
    {
      "cell_type": "code",
      "execution_count": 2,
      "metadata": {
        "colab": {
          "base_uri": "https://localhost:8080/"
        },
        "id": "7H7-7-lD2Iuj",
        "outputId": "22c5a801-f57b-4d42-dcc7-b5c702e9a9ea"
      },
      "outputs": [],
      "source": [
        "# from google.colab import drive\n",
        "# drive.mount('/content/drive')"
      ]
    },
    {
      "cell_type": "code",
      "execution_count": 1,
      "metadata": {
        "colab": {
          "base_uri": "https://localhost:8080/"
        },
        "id": "HolaiWOX3jPL",
        "outputId": "4ab57946-128c-4db1-a45b-4d8e0d78caab"
      },
      "outputs": [],
      "source": [
        "# !pip install -r drive/MyDrive/CV_Transformer/requirements.txt\n",
        "# !pip install -U tensorflow-addons"
      ]
    },
    {
      "cell_type": "code",
      "execution_count": 3,
      "metadata": {
        "colab": {
          "base_uri": "https://localhost:8080/"
        },
        "id": "jWmdv-xQ3DGB",
        "outputId": "ea119958-78f8-49e4-c9ab-271157eb4ac7"
      },
      "outputs": [],
      "source": [
        "# import os\n",
        "\n",
        "# notebook_path = os.getcwd()\n",
        "# print(notebook_path)"
      ]
    },
    {
      "cell_type": "markdown",
      "metadata": {
        "id": "aHtEab4S2HzU"
      },
      "source": [
        "### 1. Import libraries"
      ]
    },
    {
      "cell_type": "code",
      "execution_count": null,
      "metadata": {
        "colab": {
          "base_uri": "https://localhost:8080/"
        },
        "id": "0-sczZSR2HzZ",
        "outputId": "07839d35-a72b-4e0d-ab6d-4a4f547c65d9"
      },
      "outputs": [],
      "source": [
        "import numpy as np\n",
        "import tensorflow as tf\n",
        "from tensorflow import keras\n",
        "from keras import layers\n",
        "import matplotlib.pyplot as plt\n",
        "\n",
        "from src.ViT import ViT_classifier\n",
        "from src.BuildingBlocks import Patches\n",
        "# from drive.MyDrive.CV_Transformer.src.ViT import ViT_classifier\n",
        "# from drive.MyDrive.CV_Transformer.src.BuildingBlocks import Patches"
      ]
    },
    {
      "cell_type": "code",
      "execution_count": 6,
      "metadata": {
        "id": "8eQLm0ZJ2Hzb"
      },
      "outputs": [],
      "source": [
        "import ssl\n",
        "ssl._create_default_https_context = ssl._create_unverified_context"
      ]
    },
    {
      "cell_type": "markdown",
      "metadata": {
        "id": "04POw8yy2Hzc"
      },
      "source": [
        "### 2. Data loading and preparation"
      ]
    },
    {
      "cell_type": "code",
      "execution_count": 7,
      "metadata": {
        "colab": {
          "base_uri": "https://localhost:8080/"
        },
        "id": "-fAq7nxa2Hzc",
        "outputId": "adf890a9-d8f5-48f3-d8c2-d92919a3b06c"
      },
      "outputs": [
        {
          "name": "stdout",
          "output_type": "stream",
          "text": [
            "Downloading data from https://www.cs.toronto.edu/~kriz/cifar-100-python.tar.gz\n",
            "169001437/169001437 [==============================] - 2s 0us/step\n",
            "x_train shape: (50000, 32, 32, 3) - y_train shape: (50000, 1)\n",
            "x_test shape: (10000, 32, 32, 3) - y_test shape: (10000, 1)\n"
          ]
        }
      ],
      "source": [
        "num_classes = 100\n",
        "input_shape = (32, 32, 3)\n",
        "\n",
        "(x_train, y_train), (x_test, y_test) = keras.datasets.cifar100.load_data()\n",
        "\n",
        "print(f\"x_train shape: {x_train.shape} - y_train shape: {y_train.shape}\")\n",
        "print(f\"x_test shape: {x_test.shape} - y_test shape: {y_test.shape}\")"
      ]
    },
    {
      "cell_type": "markdown",
      "metadata": {
        "id": "vYaWf6-32Hzd"
      },
      "source": [
        "### 3. Hyperparameters"
      ]
    },
    {
      "cell_type": "code",
      "execution_count": 8,
      "metadata": {
        "id": "tE-hWZew2Hze"
      },
      "outputs": [],
      "source": [
        "params = {\n",
        "    \"learning_rate\" : 0.001,\n",
        "    \"weight_decay\" : 0.0001,\n",
        "    \"batch_size\" : 256,\n",
        "    \"num_epochs\" : 100,\n",
        "    \"input_shape\" : (32, 32, 3),\n",
        "    \"num_classes\" : 100,\n",
        "    \"image_size\" : 72,  # We'll resize input images to this size\n",
        "    \"patch_size\" : 6,  # Size of the patches to be extract from the input images\n",
        "    \"projection_dim\" : 64,\n",
        "    \"num_heads\" : 4,\n",
        "    \"transformer_units\" : [128, 64], # Size of the transformer layers\n",
        "    \"transformer_layers\" : 8,\n",
        "    \"mlp_head_units\" : [2048, 1024]  # Size of the dense layers of the final classifier\n",
        "    }"
      ]
    },
    {
      "cell_type": "markdown",
      "metadata": {
        "id": "wBkGSvmf2Hze"
      },
      "source": [
        "### 4. Show patches"
      ]
    },
    {
      "cell_type": "code",
      "execution_count": 9,
      "metadata": {
        "colab": {
          "base_uri": "https://localhost:8080/",
          "height": 135
        },
        "id": "-c9nHa0U2Hzg",
        "outputId": "fb8cfd41-22aa-4620-df6e-3214267ed48d"
      },
      "outputs": [
        {
          "name": "stdout",
          "output_type": "stream",
          "text": [
            "Image size: 72 X 72\n",
            "Patch size: 6 X 6\n",
            "Patches per image: 144\n",
            "Elements per patch: 108\n"
          ]
        },
        {
          "data": {
            "image/png": "[encoded data removed]",
            "text/plain": [
              "<Figure size 400x400 with 1 Axes>"
            ]
          },
          "metadata": {},
          "output_type": "display_data"
        },
        {
          "data": {
            "image/png": "[encoded data removed]",
            "text/plain": [
              "<Figure size 400x400 with 144 Axes>"
            ]
          },
          "metadata": {},
          "output_type": "display_data"
        }
      ],
      "source": [
        "import matplotlib.pyplot as plt\n",
        "\n",
        "plt.figure(figsize=(4, 4))\n",
        "image = x_train[np.random.choice(range(x_train.shape[0]))]\n",
        "plt.imshow(image.astype(\"uint8\"))\n",
        "plt.axis(\"off\")\n",
        "\n",
        "resized_image = tf.image.resize(\n",
        "    tf.convert_to_tensor([image]), size=(params[\"image_size\"], params[\"image_size\"])\n",
        ")\n",
        "\n",
        "extract_patches = Patches(params[\"patch_size\"])\n",
        "patches = extract_patches(resized_image)\n",
        "print(f\"Image size: {params['image_size']} X {params['image_size']}\")\n",
        "print(f\"Patch size: {params['patch_size']} X {params['patch_size']}\")\n",
        "print(f\"Patches per image: {patches.shape[1]}\")\n",
        "print(f\"Elements per patch: {patches.shape[-1]}\")\n",
        "\n",
        "n = int(np.sqrt(patches.shape[1]))\n",
        "plt.figure(figsize=(4, 4))\n",
        "for i, patch in enumerate(patches[0]):\n",
        "    ax = plt.subplot(n, n, i + 1)\n",
        "    patch_img = tf.reshape(patch, (params[\"patch_size\"], params[\"patch_size\"], 3))\n",
        "    plt.imshow(patch_img.numpy().astype(\"uint8\"))\n",
        "    plt.axis(\"off\")"
      ]
    },
    {
      "cell_type": "markdown",
      "metadata": {
        "id": "-tYHENVS2Hzh"
      },
      "source": [
        "### 5. Train ViT"
      ]
    },
    {
      "cell_type": "code",
      "execution_count": 10,
      "metadata": {
        "colab": {
          "base_uri": "https://localhost:8080/"
        },
        "id": "RaC4bSuu2Hzi",
        "outputId": "d62ca9fa-f54d-4a51-b974-d270472e32a8"
      },
      "outputs": [
        {
          "name": "stdout",
          "output_type": "stream",
          "text": [
            "Epoch 1/100\n",
            "176/176 [==============================] - 81s 377ms/step - loss: 4.4819 - accuracy: 0.0461 - top-5-accuracy: 0.1588 - val_loss: 3.9627 - val_accuracy: 0.1036 - val_top-5-accuracy: 0.3018\n",
            "Epoch 2/100\n",
            "176/176 [==============================] - 67s 381ms/step - loss: 3.9432 - accuracy: 0.0972 - top-5-accuracy: 0.2905 - val_loss: 3.5497 - val_accuracy: 0.1678 - val_top-5-accuracy: 0.4188\n",
            "Epoch 3/100\n",
            "176/176 [==============================] - 67s 379ms/step - loss: 3.6917 - accuracy: 0.1326 - top-5-accuracy: 0.3629 - val_loss: 3.3412 - val_accuracy: 0.1920 - val_top-5-accuracy: 0.4706\n",
            "Epoch 4/100\n",
            "176/176 [==============================] - 66s 376ms/step - loss: 3.5254 - accuracy: 0.1564 - top-5-accuracy: 0.4130 - val_loss: 3.2536 - val_accuracy: 0.2128 - val_top-5-accuracy: 0.5008\n",
            "Epoch 5/100\n",
            "176/176 [==============================] - 66s 377ms/step - loss: 3.4013 - accuracy: 0.1808 - top-5-accuracy: 0.4508 - val_loss: 3.0901 - val_accuracy: 0.2442 - val_top-5-accuracy: 0.5334\n",
            "Epoch 6/100\n",
            "176/176 [==============================] - 67s 378ms/step - loss: 3.2852 - accuracy: 0.1990 - top-5-accuracy: 0.4835 - val_loss: 3.0029 - val_accuracy: 0.2666 - val_top-5-accuracy: 0.5546\n",
            "Epoch 7/100\n",
            "176/176 [==============================] - 66s 377ms/step - loss: 3.1781 - accuracy: 0.2222 - top-5-accuracy: 0.5115 - val_loss: 2.8569 - val_accuracy: 0.2866 - val_top-5-accuracy: 0.5940\n",
            "Epoch 8/100\n",
            "176/176 [==============================] - 67s 379ms/step - loss: 3.0641 - accuracy: 0.2443 - top-5-accuracy: 0.5411 - val_loss: 2.7865 - val_accuracy: 0.3014 - val_top-5-accuracy: 0.6022\n",
            "Epoch 9/100\n",
            "176/176 [==============================] - 67s 380ms/step - loss: 2.9634 - accuracy: 0.2628 - top-5-accuracy: 0.5636 - val_loss: 2.7331 - val_accuracy: 0.3094 - val_top-5-accuracy: 0.6190\n",
            "Epoch 10/100\n",
            "176/176 [==============================] - 66s 378ms/step - loss: 2.8819 - accuracy: 0.2816 - top-5-accuracy: 0.5850 - val_loss: 2.6209 - val_accuracy: 0.3418 - val_top-5-accuracy: 0.6440\n",
            "Epoch 11/100\n",
            "176/176 [==============================] - 66s 378ms/step - loss: 2.8098 - accuracy: 0.2941 - top-5-accuracy: 0.6020 - val_loss: 2.5967 - val_accuracy: 0.3454 - val_top-5-accuracy: 0.6528\n",
            "Epoch 12/100\n",
            "176/176 [==============================] - 66s 377ms/step - loss: 2.7450 - accuracy: 0.3087 - top-5-accuracy: 0.6155 - val_loss: 2.5462 - val_accuracy: 0.3562 - val_top-5-accuracy: 0.6660\n",
            "Epoch 13/100\n",
            "176/176 [==============================] - 66s 376ms/step - loss: 2.6745 - accuracy: 0.3233 - top-5-accuracy: 0.6309 - val_loss: 2.4790 - val_accuracy: 0.3692 - val_top-5-accuracy: 0.6738\n",
            "Epoch 14/100\n",
            "176/176 [==============================] - 66s 376ms/step - loss: 2.6126 - accuracy: 0.3346 - top-5-accuracy: 0.6484 - val_loss: 2.4673 - val_accuracy: 0.3706 - val_top-5-accuracy: 0.6690\n",
            "Epoch 15/100\n",
            "176/176 [==============================] - 67s 379ms/step - loss: 2.5531 - accuracy: 0.3459 - top-5-accuracy: 0.6590 - val_loss: 2.3963 - val_accuracy: 0.3866 - val_top-5-accuracy: 0.6884\n",
            "Epoch 16/100\n",
            "176/176 [==============================] - 67s 380ms/step - loss: 2.4775 - accuracy: 0.3630 - top-5-accuracy: 0.6752 - val_loss: 2.3357 - val_accuracy: 0.3998 - val_top-5-accuracy: 0.6992\n",
            "Epoch 17/100\n",
            "176/176 [==============================] - 66s 376ms/step - loss: 2.4095 - accuracy: 0.3747 - top-5-accuracy: 0.6907 - val_loss: 2.2785 - val_accuracy: 0.4124 - val_top-5-accuracy: 0.7064\n",
            "Epoch 18/100\n",
            "176/176 [==============================] - 66s 378ms/step - loss: 2.3551 - accuracy: 0.3892 - top-5-accuracy: 0.7009 - val_loss: 2.2385 - val_accuracy: 0.4220 - val_top-5-accuracy: 0.7156\n",
            "Epoch 19/100\n",
            "176/176 [==============================] - 66s 378ms/step - loss: 2.2915 - accuracy: 0.4008 - top-5-accuracy: 0.7146 - val_loss: 2.2233 - val_accuracy: 0.4234 - val_top-5-accuracy: 0.7258\n",
            "Epoch 20/100\n",
            "176/176 [==============================] - 66s 377ms/step - loss: 2.2438 - accuracy: 0.4114 - top-5-accuracy: 0.7271 - val_loss: 2.2097 - val_accuracy: 0.4252 - val_top-5-accuracy: 0.7240\n",
            "Epoch 21/100\n",
            "176/176 [==============================] - 66s 378ms/step - loss: 2.1866 - accuracy: 0.4222 - top-5-accuracy: 0.7385 - val_loss: 2.1551 - val_accuracy: 0.4446 - val_top-5-accuracy: 0.7372\n",
            "Epoch 22/100\n",
            "176/176 [==============================] - 65s 372ms/step - loss: 2.1302 - accuracy: 0.4355 - top-5-accuracy: 0.7470 - val_loss: 2.1583 - val_accuracy: 0.4410 - val_top-5-accuracy: 0.7394\n",
            "Epoch 23/100\n",
            "176/176 [==============================] - 66s 376ms/step - loss: 2.0875 - accuracy: 0.4453 - top-5-accuracy: 0.7559 - val_loss: 2.1148 - val_accuracy: 0.4486 - val_top-5-accuracy: 0.7460\n",
            "Epoch 24/100\n",
            "176/176 [==============================] - 65s 371ms/step - loss: 2.0390 - accuracy: 0.4536 - top-5-accuracy: 0.7672 - val_loss: 2.0944 - val_accuracy: 0.4480 - val_top-5-accuracy: 0.7508\n",
            "Epoch 25/100\n",
            "176/176 [==============================] - 66s 378ms/step - loss: 1.9886 - accuracy: 0.4637 - top-5-accuracy: 0.7767 - val_loss: 2.0501 - val_accuracy: 0.4684 - val_top-5-accuracy: 0.7586\n",
            "Epoch 26/100\n",
            "176/176 [==============================] - 66s 372ms/step - loss: 1.9466 - accuracy: 0.4740 - top-5-accuracy: 0.7842 - val_loss: 2.0436 - val_accuracy: 0.4672 - val_top-5-accuracy: 0.7616\n",
            "Epoch 27/100\n",
            "176/176 [==============================] - 67s 379ms/step - loss: 1.9141 - accuracy: 0.4844 - top-5-accuracy: 0.7902 - val_loss: 2.0146 - val_accuracy: 0.4752 - val_top-5-accuracy: 0.7644\n",
            "Epoch 28/100\n",
            "176/176 [==============================] - 65s 372ms/step - loss: 1.8649 - accuracy: 0.4926 - top-5-accuracy: 0.8010 - val_loss: 2.0347 - val_accuracy: 0.4674 - val_top-5-accuracy: 0.7706\n",
            "Epoch 29/100\n",
            "176/176 [==============================] - 66s 378ms/step - loss: 1.8325 - accuracy: 0.5019 - top-5-accuracy: 0.8053 - val_loss: 2.0104 - val_accuracy: 0.4822 - val_top-5-accuracy: 0.7630\n",
            "Epoch 30/100\n",
            "176/176 [==============================] - 66s 373ms/step - loss: 1.7917 - accuracy: 0.5118 - top-5-accuracy: 0.8139 - val_loss: 2.0006 - val_accuracy: 0.4758 - val_top-5-accuracy: 0.7708\n",
            "Epoch 31/100\n",
            "176/176 [==============================] - 66s 373ms/step - loss: 1.7499 - accuracy: 0.5178 - top-5-accuracy: 0.8207 - val_loss: 1.9649 - val_accuracy: 0.4796 - val_top-5-accuracy: 0.7812\n",
            "Epoch 32/100\n",
            "176/176 [==============================] - 66s 373ms/step - loss: 1.7275 - accuracy: 0.5242 - top-5-accuracy: 0.8238 - val_loss: 1.9739 - val_accuracy: 0.4792 - val_top-5-accuracy: 0.7790\n",
            "Epoch 33/100\n",
            "176/176 [==============================] - 67s 382ms/step - loss: 1.6796 - accuracy: 0.5345 - top-5-accuracy: 0.8341 - val_loss: 1.9225 - val_accuracy: 0.4940 - val_top-5-accuracy: 0.7870\n",
            "Epoch 34/100\n",
            "176/176 [==============================] - 65s 371ms/step - loss: 1.6498 - accuracy: 0.5397 - top-5-accuracy: 0.8388 - val_loss: 1.9493 - val_accuracy: 0.4886 - val_top-5-accuracy: 0.7826\n",
            "Epoch 35/100\n",
            "176/176 [==============================] - 66s 373ms/step - loss: 1.6201 - accuracy: 0.5474 - top-5-accuracy: 0.8443 - val_loss: 1.9567 - val_accuracy: 0.4858 - val_top-5-accuracy: 0.7822\n",
            "Epoch 36/100\n",
            "176/176 [==============================] - 65s 372ms/step - loss: 1.5820 - accuracy: 0.5571 - top-5-accuracy: 0.8501 - val_loss: 1.9366 - val_accuracy: 0.4934 - val_top-5-accuracy: 0.7838\n",
            "Epoch 37/100\n",
            "176/176 [==============================] - 66s 376ms/step - loss: 1.5528 - accuracy: 0.5653 - top-5-accuracy: 0.8546 - val_loss: 1.9259 - val_accuracy: 0.4974 - val_top-5-accuracy: 0.7886\n",
            "Epoch 38/100\n",
            "176/176 [==============================] - 65s 371ms/step - loss: 1.5165 - accuracy: 0.5751 - top-5-accuracy: 0.8603 - val_loss: 1.9104 - val_accuracy: 0.4956 - val_top-5-accuracy: 0.7900\n",
            "Epoch 39/100\n",
            "176/176 [==============================] - 67s 380ms/step - loss: 1.4922 - accuracy: 0.5797 - top-5-accuracy: 0.8649 - val_loss: 1.8862 - val_accuracy: 0.5078 - val_top-5-accuracy: 0.7956\n",
            "Epoch 40/100\n",
            "176/176 [==============================] - 65s 372ms/step - loss: 1.4688 - accuracy: 0.5840 - top-5-accuracy: 0.8696 - val_loss: 1.9134 - val_accuracy: 0.5040 - val_top-5-accuracy: 0.7920\n",
            "Epoch 41/100\n",
            "176/176 [==============================] - 66s 373ms/step - loss: 1.4403 - accuracy: 0.5918 - top-5-accuracy: 0.8741 - val_loss: 1.8864 - val_accuracy: 0.5028 - val_top-5-accuracy: 0.8004\n",
            "Epoch 42/100\n",
            "176/176 [==============================] - 65s 372ms/step - loss: 1.4162 - accuracy: 0.5978 - top-5-accuracy: 0.8762 - val_loss: 1.8908 - val_accuracy: 0.5066 - val_top-5-accuracy: 0.7956\n",
            "Epoch 43/100\n",
            "176/176 [==============================] - 66s 373ms/step - loss: 1.3990 - accuracy: 0.6043 - top-5-accuracy: 0.8802 - val_loss: 1.8974 - val_accuracy: 0.5052 - val_top-5-accuracy: 0.7942\n",
            "Epoch 44/100\n",
            "176/176 [==============================] - 67s 383ms/step - loss: 1.3728 - accuracy: 0.6073 - top-5-accuracy: 0.8861 - val_loss: 1.8901 - val_accuracy: 0.5110 - val_top-5-accuracy: 0.7988\n",
            "Epoch 45/100\n",
            "176/176 [==============================] - 67s 379ms/step - loss: 1.3477 - accuracy: 0.6130 - top-5-accuracy: 0.8894 - val_loss: 1.8884 - val_accuracy: 0.5166 - val_top-5-accuracy: 0.8002\n",
            "Epoch 46/100\n",
            "176/176 [==============================] - 66s 377ms/step - loss: 1.3280 - accuracy: 0.6175 - top-5-accuracy: 0.8919 - val_loss: 1.8765 - val_accuracy: 0.5220 - val_top-5-accuracy: 0.7986\n",
            "Epoch 47/100\n",
            "176/176 [==============================] - 65s 372ms/step - loss: 1.3186 - accuracy: 0.6221 - top-5-accuracy: 0.8933 - val_loss: 1.9069 - val_accuracy: 0.5152 - val_top-5-accuracy: 0.7854\n",
            "Epoch 48/100\n",
            "176/176 [==============================] - 66s 373ms/step - loss: 1.2842 - accuracy: 0.6287 - top-5-accuracy: 0.8962 - val_loss: 1.9064 - val_accuracy: 0.5114 - val_top-5-accuracy: 0.7972\n",
            "Epoch 49/100\n",
            "176/176 [==============================] - 66s 373ms/step - loss: 1.2641 - accuracy: 0.6341 - top-5-accuracy: 0.8994 - val_loss: 1.8834 - val_accuracy: 0.5174 - val_top-5-accuracy: 0.8004\n",
            "Epoch 50/100\n",
            "176/176 [==============================] - 65s 372ms/step - loss: 1.2449 - accuracy: 0.6384 - top-5-accuracy: 0.9055 - val_loss: 1.8893 - val_accuracy: 0.5208 - val_top-5-accuracy: 0.8002\n",
            "Epoch 51/100\n",
            "176/176 [==============================] - 65s 372ms/step - loss: 1.2283 - accuracy: 0.6462 - top-5-accuracy: 0.9055 - val_loss: 1.9005 - val_accuracy: 0.5176 - val_top-5-accuracy: 0.7976\n",
            "Epoch 52/100\n",
            "176/176 [==============================] - 66s 377ms/step - loss: 1.2093 - accuracy: 0.6495 - top-5-accuracy: 0.9092 - val_loss: 1.8841 - val_accuracy: 0.5232 - val_top-5-accuracy: 0.8040\n",
            "Epoch 53/100\n",
            "176/176 [==============================] - 66s 376ms/step - loss: 1.2038 - accuracy: 0.6510 - top-5-accuracy: 0.9095 - val_loss: 1.8809 - val_accuracy: 0.5264 - val_top-5-accuracy: 0.8040\n",
            "Epoch 54/100\n",
            "176/176 [==============================] - 66s 377ms/step - loss: 1.1804 - accuracy: 0.6566 - top-5-accuracy: 0.9126 - val_loss: 1.8510 - val_accuracy: 0.5278 - val_top-5-accuracy: 0.8086\n",
            "Epoch 55/100\n",
            "176/176 [==============================] - 65s 372ms/step - loss: 1.1488 - accuracy: 0.6650 - top-5-accuracy: 0.9155 - val_loss: 1.8746 - val_accuracy: 0.5204 - val_top-5-accuracy: 0.8072\n",
            "Epoch 56/100\n",
            "176/176 [==============================] - 65s 372ms/step - loss: 1.1487 - accuracy: 0.6658 - top-5-accuracy: 0.9169 - val_loss: 1.9114 - val_accuracy: 0.5132 - val_top-5-accuracy: 0.8050\n",
            "Epoch 57/100\n",
            "176/176 [==============================] - 66s 373ms/step - loss: 1.1330 - accuracy: 0.6657 - top-5-accuracy: 0.9200 - val_loss: 1.8765 - val_accuracy: 0.5262 - val_top-5-accuracy: 0.8094\n",
            "Epoch 58/100\n",
            "176/176 [==============================] - 66s 373ms/step - loss: 1.1051 - accuracy: 0.6767 - top-5-accuracy: 0.9233 - val_loss: 1.8851 - val_accuracy: 0.5232 - val_top-5-accuracy: 0.8044\n",
            "Epoch 59/100\n",
            "176/176 [==============================] - 65s 371ms/step - loss: 1.0916 - accuracy: 0.6798 - top-5-accuracy: 0.9256 - val_loss: 1.8818 - val_accuracy: 0.5252 - val_top-5-accuracy: 0.8080\n",
            "Epoch 60/100\n",
            "176/176 [==============================] - 67s 379ms/step - loss: 1.0919 - accuracy: 0.6793 - top-5-accuracy: 0.9257 - val_loss: 1.8782 - val_accuracy: 0.5286 - val_top-5-accuracy: 0.8094\n",
            "Epoch 61/100\n",
            "176/176 [==============================] - 67s 380ms/step - loss: 1.0870 - accuracy: 0.6812 - top-5-accuracy: 0.9257 - val_loss: 1.8735 - val_accuracy: 0.5318 - val_top-5-accuracy: 0.8064\n",
            "Epoch 62/100\n",
            "176/176 [==============================] - 65s 371ms/step - loss: 1.0574 - accuracy: 0.6887 - top-5-accuracy: 0.9290 - val_loss: 1.8839 - val_accuracy: 0.5288 - val_top-5-accuracy: 0.8080\n",
            "Epoch 63/100\n",
            "176/176 [==============================] - 65s 372ms/step - loss: 1.0642 - accuracy: 0.6881 - top-5-accuracy: 0.9293 - val_loss: 1.8830 - val_accuracy: 0.5260 - val_top-5-accuracy: 0.8058\n",
            "Epoch 64/100\n",
            "176/176 [==============================] - 65s 372ms/step - loss: 1.0459 - accuracy: 0.6899 - top-5-accuracy: 0.9314 - val_loss: 1.8581 - val_accuracy: 0.5274 - val_top-5-accuracy: 0.8126\n",
            "Epoch 65/100\n",
            "176/176 [==============================] - 65s 372ms/step - loss: 1.0302 - accuracy: 0.6954 - top-5-accuracy: 0.9330 - val_loss: 1.9118 - val_accuracy: 0.5250 - val_top-5-accuracy: 0.8028\n",
            "Epoch 66/100\n",
            "176/176 [==============================] - 65s 372ms/step - loss: 1.0168 - accuracy: 0.6986 - top-5-accuracy: 0.9350 - val_loss: 1.8824 - val_accuracy: 0.5294 - val_top-5-accuracy: 0.8028\n",
            "Epoch 67/100\n",
            "176/176 [==============================] - 65s 372ms/step - loss: 1.0074 - accuracy: 0.7028 - top-5-accuracy: 0.9355 - val_loss: 1.8754 - val_accuracy: 0.5308 - val_top-5-accuracy: 0.8084\n",
            "Epoch 68/100\n",
            "176/176 [==============================] - 66s 373ms/step - loss: 0.9947 - accuracy: 0.7060 - top-5-accuracy: 0.9374 - val_loss: 1.9090 - val_accuracy: 0.5284 - val_top-5-accuracy: 0.8118\n",
            "Epoch 69/100\n",
            "176/176 [==============================] - 66s 378ms/step - loss: 0.9874 - accuracy: 0.7091 - top-5-accuracy: 0.9383 - val_loss: 1.8831 - val_accuracy: 0.5362 - val_top-5-accuracy: 0.8140\n",
            "Epoch 70/100\n",
            "176/176 [==============================] - 66s 373ms/step - loss: 0.9739 - accuracy: 0.7116 - top-5-accuracy: 0.9414 - val_loss: 1.8900 - val_accuracy: 0.5316 - val_top-5-accuracy: 0.8106\n",
            "Epoch 71/100\n",
            "176/176 [==============================] - 67s 381ms/step - loss: 0.9755 - accuracy: 0.7102 - top-5-accuracy: 0.9401 - val_loss: 1.8554 - val_accuracy: 0.5382 - val_top-5-accuracy: 0.8122\n",
            "Epoch 72/100\n",
            "176/176 [==============================] - 67s 380ms/step - loss: 0.9586 - accuracy: 0.7165 - top-5-accuracy: 0.9404 - val_loss: 1.8871 - val_accuracy: 0.5388 - val_top-5-accuracy: 0.8134\n",
            "Epoch 73/100\n",
            "176/176 [==============================] - 65s 372ms/step - loss: 0.9552 - accuracy: 0.7146 - top-5-accuracy: 0.9412 - val_loss: 1.8851 - val_accuracy: 0.5368 - val_top-5-accuracy: 0.8090\n",
            "Epoch 74/100\n",
            "176/176 [==============================] - 65s 372ms/step - loss: 0.9514 - accuracy: 0.7163 - top-5-accuracy: 0.9428 - val_loss: 1.8976 - val_accuracy: 0.5304 - val_top-5-accuracy: 0.8060\n",
            "Epoch 75/100\n",
            "176/176 [==============================] - 65s 372ms/step - loss: 0.9288 - accuracy: 0.7241 - top-5-accuracy: 0.9442 - val_loss: 1.8934 - val_accuracy: 0.5352 - val_top-5-accuracy: 0.8128\n",
            "Epoch 76/100\n",
            "176/176 [==============================] - 66s 372ms/step - loss: 0.9148 - accuracy: 0.7287 - top-5-accuracy: 0.9460 - val_loss: 1.8974 - val_accuracy: 0.5356 - val_top-5-accuracy: 0.8164\n",
            "Epoch 77/100\n",
            "176/176 [==============================] - 66s 373ms/step - loss: 0.9075 - accuracy: 0.7306 - top-5-accuracy: 0.9481 - val_loss: 1.8935 - val_accuracy: 0.5224 - val_top-5-accuracy: 0.8066\n",
            "Epoch 78/100\n",
            "176/176 [==============================] - 66s 373ms/step - loss: 0.9104 - accuracy: 0.7306 - top-5-accuracy: 0.9473 - val_loss: 1.9031 - val_accuracy: 0.5328 - val_top-5-accuracy: 0.8072\n",
            "Epoch 79/100\n",
            "176/176 [==============================] - 66s 373ms/step - loss: 0.9037 - accuracy: 0.7286 - top-5-accuracy: 0.9487 - val_loss: 1.9014 - val_accuracy: 0.5294 - val_top-5-accuracy: 0.8088\n",
            "Epoch 80/100\n",
            "176/176 [==============================] - 66s 373ms/step - loss: 0.9022 - accuracy: 0.7306 - top-5-accuracy: 0.9487 - val_loss: 1.8989 - val_accuracy: 0.5362 - val_top-5-accuracy: 0.8130\n",
            "Epoch 81/100\n",
            "176/176 [==============================] - 66s 373ms/step - loss: 0.8824 - accuracy: 0.7368 - top-5-accuracy: 0.9510 - val_loss: 1.8904 - val_accuracy: 0.5360 - val_top-5-accuracy: 0.8122\n",
            "Epoch 82/100\n",
            "176/176 [==============================] - 67s 379ms/step - loss: 0.8803 - accuracy: 0.7361 - top-5-accuracy: 0.9504 - val_loss: 1.8867 - val_accuracy: 0.5446 - val_top-5-accuracy: 0.8144\n",
            "Epoch 83/100\n",
            "176/176 [==============================] - 65s 372ms/step - loss: 0.8752 - accuracy: 0.7394 - top-5-accuracy: 0.9503 - val_loss: 1.9013 - val_accuracy: 0.5326 - val_top-5-accuracy: 0.8176\n",
            "Epoch 84/100\n",
            "176/176 [==============================] - 66s 373ms/step - loss: 0.8713 - accuracy: 0.7373 - top-5-accuracy: 0.9519 - val_loss: 1.9164 - val_accuracy: 0.5346 - val_top-5-accuracy: 0.8158\n",
            "Epoch 85/100\n",
            "176/176 [==============================] - 65s 372ms/step - loss: 0.8669 - accuracy: 0.7410 - top-5-accuracy: 0.9518 - val_loss: 1.8972 - val_accuracy: 0.5346 - val_top-5-accuracy: 0.8122\n",
            "Epoch 86/100\n",
            "176/176 [==============================] - 66s 373ms/step - loss: 0.8623 - accuracy: 0.7405 - top-5-accuracy: 0.9533 - val_loss: 1.9244 - val_accuracy: 0.5340 - val_top-5-accuracy: 0.8100\n",
            "Epoch 87/100\n",
            "176/176 [==============================] - 66s 373ms/step - loss: 0.8570 - accuracy: 0.7432 - top-5-accuracy: 0.9530 - val_loss: 1.8922 - val_accuracy: 0.5426 - val_top-5-accuracy: 0.8124\n",
            "Epoch 88/100\n",
            "176/176 [==============================] - 65s 372ms/step - loss: 0.8412 - accuracy: 0.7493 - top-5-accuracy: 0.9544 - val_loss: 1.8834 - val_accuracy: 0.5432 - val_top-5-accuracy: 0.8146\n",
            "Epoch 89/100\n",
            "176/176 [==============================] - 66s 374ms/step - loss: 0.8387 - accuracy: 0.7484 - top-5-accuracy: 0.9556 - val_loss: 1.9161 - val_accuracy: 0.5360 - val_top-5-accuracy: 0.8168\n",
            "Epoch 90/100\n",
            "176/176 [==============================] - 65s 372ms/step - loss: 0.8399 - accuracy: 0.7487 - top-5-accuracy: 0.9546 - val_loss: 1.9338 - val_accuracy: 0.5370 - val_top-5-accuracy: 0.8130\n",
            "Epoch 91/100\n",
            "176/176 [==============================] - 66s 373ms/step - loss: 0.8301 - accuracy: 0.7503 - top-5-accuracy: 0.9564 - val_loss: 1.9163 - val_accuracy: 0.5382 - val_top-5-accuracy: 0.8162\n",
            "Epoch 92/100\n",
            "176/176 [==============================] - 65s 372ms/step - loss: 0.8283 - accuracy: 0.7527 - top-5-accuracy: 0.9549 - val_loss: 1.9128 - val_accuracy: 0.5418 - val_top-5-accuracy: 0.8132\n",
            "Epoch 93/100\n",
            "176/176 [==============================] - 65s 371ms/step - loss: 0.8236 - accuracy: 0.7535 - top-5-accuracy: 0.9584 - val_loss: 1.9061 - val_accuracy: 0.5354 - val_top-5-accuracy: 0.8098\n",
            "Epoch 94/100\n",
            "176/176 [==============================] - 66s 373ms/step - loss: 0.8255 - accuracy: 0.7532 - top-5-accuracy: 0.9549 - val_loss: 1.9169 - val_accuracy: 0.5392 - val_top-5-accuracy: 0.8134\n",
            "Epoch 95/100\n",
            "176/176 [==============================] - 66s 373ms/step - loss: 0.8068 - accuracy: 0.7586 - top-5-accuracy: 0.9584 - val_loss: 1.9166 - val_accuracy: 0.5378 - val_top-5-accuracy: 0.8026\n",
            "Epoch 96/100\n",
            "176/176 [==============================] - 66s 372ms/step - loss: 0.8164 - accuracy: 0.7553 - top-5-accuracy: 0.9568 - val_loss: 1.8964 - val_accuracy: 0.5410 - val_top-5-accuracy: 0.8118\n",
            "Epoch 97/100\n",
            "176/176 [==============================] - 66s 373ms/step - loss: 0.7999 - accuracy: 0.7602 - top-5-accuracy: 0.9568 - val_loss: 1.9475 - val_accuracy: 0.5346 - val_top-5-accuracy: 0.8044\n",
            "Epoch 98/100\n",
            "176/176 [==============================] - 65s 371ms/step - loss: 0.8079 - accuracy: 0.7581 - top-5-accuracy: 0.9592 - val_loss: 1.9625 - val_accuracy: 0.5414 - val_top-5-accuracy: 0.8136\n",
            "Epoch 99/100\n",
            "176/176 [==============================] - 66s 373ms/step - loss: 0.7944 - accuracy: 0.7611 - top-5-accuracy: 0.9588 - val_loss: 1.9284 - val_accuracy: 0.5408 - val_top-5-accuracy: 0.8102\n",
            "Epoch 100/100\n",
            "176/176 [==============================] - 66s 373ms/step - loss: 0.7994 - accuracy: 0.7616 - top-5-accuracy: 0.9588 - val_loss: 1.9388 - val_accuracy: 0.5342 - val_top-5-accuracy: 0.8074\n",
            "313/313 [==============================] - 7s 21ms/step - loss: 1.8623 - accuracy: 0.5491 - top-5-accuracy: 0.8141\n",
            "Test accuracy: 54.91%\n",
            "Test top 5 accuracy: 81.41%\n"
          ]
        }
      ],
      "source": [
        "ViT = ViT_classifier(x_train = x_train, params = params)\n",
        "history = ViT.train(x_train=x_train, x_test=x_test, y_train=y_train, y_test=y_test)"
      ]
    },
    {
      "cell_type": "markdown",
      "metadata": {
        "id": "N48qXYkRjIa1"
      },
      "source": [
        "### 6. Model summary"
      ]
    },
    {
      "cell_type": "code",
      "execution_count": 11,
      "metadata": {
        "colab": {
          "base_uri": "https://localhost:8080/"
        },
        "id": "lfSVA4qv2Hzi",
        "outputId": "48e7b0e2-6c5a-445a-9e3f-819d1fb13d37"
      },
      "outputs": [
        {
          "name": "stdout",
          "output_type": "stream",
          "text": [
            "Model: \"model\"\n",
            "__________________________________________________________________________________________________\n",
            " Layer (type)                Output Shape                 Param #   Connected to                  \n",
            "==================================================================================================\n",
            " input_1 (InputLayer)        [(None, 32, 32, 3)]          0         []                            \n",
            "                                                                                                  \n",
            " data_augmentation (Sequent  (None, 72, 72, 3)            7         ['input_1[0][0]']             \n",
            " ial)                                                                                             \n",
            "                                                                                                  \n",
            " patches_1 (Patches)         (None, None, 108)            0         ['data_augmentation[0][0]']   \n",
            "                                                                                                  \n",
            " patch_encoder (PatchEncode  (None, 144, 64)              16192     ['patches_1[0][0]']           \n",
            " r)                                                                                               \n",
            "                                                                                                  \n",
            " layer_normalization (Layer  (None, 144, 64)              128       ['patch_encoder[0][0]']       \n",
            " Normalization)                                                                                   \n",
            "                                                                                                  \n",
            " multi_head_attention (Mult  (None, 144, 64)              66368     ['layer_normalization[0][0]', \n",
            " iHeadAttention)                                                     'layer_normalization[0][0]'] \n",
            "                                                                                                  \n",
            " add (Add)                   (None, 144, 64)              0         ['multi_head_attention[0][0]',\n",
            "                                                                     'patch_encoder[0][0]']       \n",
            "                                                                                                  \n",
            " layer_normalization_1 (Lay  (None, 144, 64)              128       ['add[0][0]']                 \n",
            " erNormalization)                                                                                 \n",
            "                                                                                                  \n",
            " dense_1 (Dense)             (None, 144, 128)             8320      ['layer_normalization_1[0][0]'\n",
            "                                                                    ]                             \n",
            "                                                                                                  \n",
            " dropout (Dropout)           (None, 144, 128)             0         ['dense_1[0][0]']             \n",
            "                                                                                                  \n",
            " dense_2 (Dense)             (None, 144, 64)              8256      ['dropout[0][0]']             \n",
            "                                                                                                  \n",
            " dropout_1 (Dropout)         (None, 144, 64)              0         ['dense_2[0][0]']             \n",
            "                                                                                                  \n",
            " add_1 (Add)                 (None, 144, 64)              0         ['dropout_1[0][0]',           \n",
            "                                                                     'add[0][0]']                 \n",
            "                                                                                                  \n",
            " layer_normalization_2 (Lay  (None, 144, 64)              128       ['add_1[0][0]']               \n",
            " erNormalization)                                                                                 \n",
            "                                                                                                  \n",
            " multi_head_attention_1 (Mu  (None, 144, 64)              66368     ['layer_normalization_2[0][0]'\n",
            " ltiHeadAttention)                                                  , 'layer_normalization_2[0][0]\n",
            "                                                                    ']                            \n",
            "                                                                                                  \n",
            " add_2 (Add)                 (None, 144, 64)              0         ['multi_head_attention_1[0][0]\n",
            "                                                                    ',                            \n",
            "                                                                     'add_1[0][0]']               \n",
            "                                                                                                  \n",
            " layer_normalization_3 (Lay  (None, 144, 64)              128       ['add_2[0][0]']               \n",
            " erNormalization)                                                                                 \n",
            "                                                                                                  \n",
            " dense_3 (Dense)             (None, 144, 128)             8320      ['layer_normalization_3[0][0]'\n",
            "                                                                    ]                             \n",
            "                                                                                                  \n",
            " dropout_2 (Dropout)         (None, 144, 128)             0         ['dense_3[0][0]']             \n",
            "                                                                                                  \n",
            " dense_4 (Dense)             (None, 144, 64)              8256      ['dropout_2[0][0]']           \n",
            "                                                                                                  \n",
            " dropout_3 (Dropout)         (None, 144, 64)              0         ['dense_4[0][0]']             \n",
            "                                                                                                  \n",
            " add_3 (Add)                 (None, 144, 64)              0         ['dropout_3[0][0]',           \n",
            "                                                                     'add_2[0][0]']               \n",
            "                                                                                                  \n",
            " layer_normalization_4 (Lay  (None, 144, 64)              128       ['add_3[0][0]']               \n",
            " erNormalization)                                                                                 \n",
            "                                                                                                  \n",
            " multi_head_attention_2 (Mu  (None, 144, 64)              66368     ['layer_normalization_4[0][0]'\n",
            " ltiHeadAttention)                                                  , 'layer_normalization_4[0][0]\n",
            "                                                                    ']                            \n",
            "                                                                                                  \n",
            " add_4 (Add)                 (None, 144, 64)              0         ['multi_head_attention_2[0][0]\n",
            "                                                                    ',                            \n",
            "                                                                     'add_3[0][0]']               \n",
            "                                                                                                  \n",
            " layer_normalization_5 (Lay  (None, 144, 64)              128       ['add_4[0][0]']               \n",
            " erNormalization)                                                                                 \n",
            "                                                                                                  \n",
            " dense_5 (Dense)             (None, 144, 128)             8320      ['layer_normalization_5[0][0]'\n",
            "                                                                    ]                             \n",
            "                                                                                                  \n",
            " dropout_4 (Dropout)         (None, 144, 128)             0         ['dense_5[0][0]']             \n",
            "                                                                                                  \n",
            " dense_6 (Dense)             (None, 144, 64)              8256      ['dropout_4[0][0]']           \n",
            "                                                                                                  \n",
            " dropout_5 (Dropout)         (None, 144, 64)              0         ['dense_6[0][0]']             \n",
            "                                                                                                  \n",
            " add_5 (Add)                 (None, 144, 64)              0         ['dropout_5[0][0]',           \n",
            "                                                                     'add_4[0][0]']               \n",
            "                                                                                                  \n",
            " layer_normalization_6 (Lay  (None, 144, 64)              128       ['add_5[0][0]']               \n",
            " erNormalization)                                                                                 \n",
            "                                                                                                  \n",
            " multi_head_attention_3 (Mu  (None, 144, 64)              66368     ['layer_normalization_6[0][0]'\n",
            " ltiHeadAttention)                                                  , 'layer_normalization_6[0][0]\n",
            "                                                                    ']                            \n",
            "                                                                                                  \n",
            " add_6 (Add)                 (None, 144, 64)              0         ['multi_head_attention_3[0][0]\n",
            "                                                                    ',                            \n",
            "                                                                     'add_5[0][0]']               \n",
            "                                                                                                  \n",
            " layer_normalization_7 (Lay  (None, 144, 64)              128       ['add_6[0][0]']               \n",
            " erNormalization)                                                                                 \n",
            "                                                                                                  \n",
            " dense_7 (Dense)             (None, 144, 128)             8320      ['layer_normalization_7[0][0]'\n",
            "                                                                    ]                             \n",
            "                                                                                                  \n",
            " dropout_6 (Dropout)         (None, 144, 128)             0         ['dense_7[0][0]']             \n",
            "                                                                                                  \n",
            " dense_8 (Dense)             (None, 144, 64)              8256      ['dropout_6[0][0]']           \n",
            "                                                                                                  \n",
            " dropout_7 (Dropout)         (None, 144, 64)              0         ['dense_8[0][0]']             \n",
            "                                                                                                  \n",
            " add_7 (Add)                 (None, 144, 64)              0         ['dropout_7[0][0]',           \n",
            "                                                                     'add_6[0][0]']               \n",
            "                                                                                                  \n",
            " layer_normalization_8 (Lay  (None, 144, 64)              128       ['add_7[0][0]']               \n",
            " erNormalization)                                                                                 \n",
            "                                                                                                  \n",
            " multi_head_attention_4 (Mu  (None, 144, 64)              66368     ['layer_normalization_8[0][0]'\n",
            " ltiHeadAttention)                                                  , 'layer_normalization_8[0][0]\n",
            "                                                                    ']                            \n",
            "                                                                                                  \n",
            " add_8 (Add)                 (None, 144, 64)              0         ['multi_head_attention_4[0][0]\n",
            "                                                                    ',                            \n",
            "                                                                     'add_7[0][0]']               \n",
            "                                                                                                  \n",
            " layer_normalization_9 (Lay  (None, 144, 64)              128       ['add_8[0][0]']               \n",
            " erNormalization)                                                                                 \n",
            "                                                                                                  \n",
            " dense_9 (Dense)             (None, 144, 128)             8320      ['layer_normalization_9[0][0]'\n",
            "                                                                    ]                             \n",
            "                                                                                                  \n",
            " dropout_8 (Dropout)         (None, 144, 128)             0         ['dense_9[0][0]']             \n",
            "                                                                                                  \n",
            " dense_10 (Dense)            (None, 144, 64)              8256      ['dropout_8[0][0]']           \n",
            "                                                                                                  \n",
            " dropout_9 (Dropout)         (None, 144, 64)              0         ['dense_10[0][0]']            \n",
            "                                                                                                  \n",
            " add_9 (Add)                 (None, 144, 64)              0         ['dropout_9[0][0]',           \n",
            "                                                                     'add_8[0][0]']               \n",
            "                                                                                                  \n",
            " layer_normalization_10 (La  (None, 144, 64)              128       ['add_9[0][0]']               \n",
            " yerNormalization)                                                                                \n",
            "                                                                                                  \n",
            " multi_head_attention_5 (Mu  (None, 144, 64)              66368     ['layer_normalization_10[0][0]\n",
            " ltiHeadAttention)                                                  ',                            \n",
            "                                                                     'layer_normalization_10[0][0]\n",
            "                                                                    ']                            \n",
            "                                                                                                  \n",
            " add_10 (Add)                (None, 144, 64)              0         ['multi_head_attention_5[0][0]\n",
            "                                                                    ',                            \n",
            "                                                                     'add_9[0][0]']               \n",
            "                                                                                                  \n",
            " layer_normalization_11 (La  (None, 144, 64)              128       ['add_10[0][0]']              \n",
            " yerNormalization)                                                                                \n",
            "                                                                                                  \n",
            " dense_11 (Dense)            (None, 144, 128)             8320      ['layer_normalization_11[0][0]\n",
            "                                                                    ']                            \n",
            "                                                                                                  \n",
            " dropout_10 (Dropout)        (None, 144, 128)             0         ['dense_11[0][0]']            \n",
            "                                                                                                  \n",
            " dense_12 (Dense)            (None, 144, 64)              8256      ['dropout_10[0][0]']          \n",
            "                                                                                                  \n",
            " dropout_11 (Dropout)        (None, 144, 64)              0         ['dense_12[0][0]']            \n",
            "                                                                                                  \n",
            " add_11 (Add)                (None, 144, 64)              0         ['dropout_11[0][0]',          \n",
            "                                                                     'add_10[0][0]']              \n",
            "                                                                                                  \n",
            " layer_normalization_12 (La  (None, 144, 64)              128       ['add_11[0][0]']              \n",
            " yerNormalization)                                                                                \n",
            "                                                                                                  \n",
            " multi_head_attention_6 (Mu  (None, 144, 64)              66368     ['layer_normalization_12[0][0]\n",
            " ltiHeadAttention)                                                  ',                            \n",
            "                                                                     'layer_normalization_12[0][0]\n",
            "                                                                    ']                            \n",
            "                                                                                                  \n",
            " add_12 (Add)                (None, 144, 64)              0         ['multi_head_attention_6[0][0]\n",
            "                                                                    ',                            \n",
            "                                                                     'add_11[0][0]']              \n",
            "                                                                                                  \n",
            " layer_normalization_13 (La  (None, 144, 64)              128       ['add_12[0][0]']              \n",
            " yerNormalization)                                                                                \n",
            "                                                                                                  \n",
            " dense_13 (Dense)            (None, 144, 128)             8320      ['layer_normalization_13[0][0]\n",
            "                                                                    ']                            \n",
            "                                                                                                  \n",
            " dropout_12 (Dropout)        (None, 144, 128)             0         ['dense_13[0][0]']            \n",
            "                                                                                                  \n",
            " dense_14 (Dense)            (None, 144, 64)              8256      ['dropout_12[0][0]']          \n",
            "                                                                                                  \n",
            " dropout_13 (Dropout)        (None, 144, 64)              0         ['dense_14[0][0]']            \n",
            "                                                                                                  \n",
            " add_13 (Add)                (None, 144, 64)              0         ['dropout_13[0][0]',          \n",
            "                                                                     'add_12[0][0]']              \n",
            "                                                                                                  \n",
            " layer_normalization_14 (La  (None, 144, 64)              128       ['add_13[0][0]']              \n",
            " yerNormalization)                                                                                \n",
            "                                                                                                  \n",
            " multi_head_attention_7 (Mu  (None, 144, 64)              66368     ['layer_normalization_14[0][0]\n",
            " ltiHeadAttention)                                                  ',                            \n",
            "                                                                     'layer_normalization_14[0][0]\n",
            "                                                                    ']                            \n",
            "                                                                                                  \n",
            " add_14 (Add)                (None, 144, 64)              0         ['multi_head_attention_7[0][0]\n",
            "                                                                    ',                            \n",
            "                                                                     'add_13[0][0]']              \n",
            "                                                                                                  \n",
            " layer_normalization_15 (La  (None, 144, 64)              128       ['add_14[0][0]']              \n",
            " yerNormalization)                                                                                \n",
            "                                                                                                  \n",
            " dense_15 (Dense)            (None, 144, 128)             8320      ['layer_normalization_15[0][0]\n",
            "                                                                    ']                            \n",
            "                                                                                                  \n",
            " dropout_14 (Dropout)        (None, 144, 128)             0         ['dense_15[0][0]']            \n",
            "                                                                                                  \n",
            " dense_16 (Dense)            (None, 144, 64)              8256      ['dropout_14[0][0]']          \n",
            "                                                                                                  \n",
            " dropout_15 (Dropout)        (None, 144, 64)              0         ['dense_16[0][0]']            \n",
            "                                                                                                  \n",
            " add_15 (Add)                (None, 144, 64)              0         ['dropout_15[0][0]',          \n",
            "                                                                     'add_14[0][0]']              \n",
            "                                                                                                  \n",
            " layer_normalization_16 (La  (None, 144, 64)              128       ['add_15[0][0]']              \n",
            " yerNormalization)                                                                                \n",
            "                                                                                                  \n",
            " flatten (Flatten)           (None, 9216)                 0         ['layer_normalization_16[0][0]\n",
            "                                                                    ']                            \n",
            "                                                                                                  \n",
            " dropout_16 (Dropout)        (None, 9216)                 0         ['flatten[0][0]']             \n",
            "                                                                                                  \n",
            " dense_17 (Dense)            (None, 2048)                 1887641   ['dropout_16[0][0]']          \n",
            "                                                          6                                       \n",
            "                                                                                                  \n",
            " dropout_17 (Dropout)        (None, 2048)                 0         ['dense_17[0][0]']            \n",
            "                                                                                                  \n",
            " dense_18 (Dense)            (None, 1024)                 2098176   ['dropout_17[0][0]']          \n",
            "                                                                                                  \n",
            " dropout_18 (Dropout)        (None, 1024)                 0         ['dense_18[0][0]']            \n",
            "                                                                                                  \n",
            " dense_19 (Dense)            (None, 100)                  102500    ['dropout_18[0][0]']          \n",
            "                                                                                                  \n",
            "==================================================================================================\n",
            "Total params: 21759019 (83.00 MB)\n",
            "Trainable params: 21759012 (83.00 MB)\n",
            "Non-trainable params: 7 (32.00 Byte)\n",
            "__________________________________________________________________________________________________\n"
          ]
        }
      ],
      "source": [
        "ViT.model.summary()"
      ]
    }
  ],
  "metadata": {
    "accelerator": "GPU",
    "colab": {
      "collapsed_sections": [
        "RJGrwq-I9Uxy",
        "aHtEab4S2HzU",
        "04POw8yy2Hzc",
        "vYaWf6-32Hzd",
        "wBkGSvmf2Hze",
        "N48qXYkRjIa1"
      ],
      "gpuType": "T4",
      "provenance": []
    },
    "kernelspec": {
      "display_name": "Python 3",
      "name": "python3"
    },
    "language_info": {
      "codemirror_mode": {
        "name": "ipython",
        "version": 3
      },
      "file_extension": ".py",
      "mimetype": "text/x-python",
      "name": "python",
      "nbconvert_exporter": "python",
      "pygments_lexer": "ipython3",
      "version": "3.10.8"
    },
    "orig_nbformat": 4
  },
  "nbformat": 4,
  "nbformat_minor": 0
}
