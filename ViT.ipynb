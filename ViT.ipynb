{
  "cells": [
    {
      "cell_type": "markdown",
      "metadata": {
        "id": "RJGrwq-I9Uxy"
      },
      "source": [
        "### 0. Use Google Colab"
      ]
    },
    {
      "cell_type": "code",
      "execution_count": 1,
      "metadata": {
        "colab": {
          "base_uri": "https://localhost:8080/"
        },
        "id": "7H7-7-lD2Iuj",
        "outputId": "7bed4d5c-bf3e-4bba-a977-7e1b46b2421e"
      },
      "outputs": [
        {
          "name": "stdout",
          "output_type": "stream",
          "text": [
            "Mounted at /content/drive\n"
          ]
        }
      ],
      "source": [
        "from google.colab import drive\n",
        "\n",
        "drive.mount(\"/content/drive\", force_remount=True)"
      ]
    },
    {
      "cell_type": "code",
      "execution_count": 2,
      "metadata": {
        "colab": {
          "base_uri": "https://localhost:8080/"
        },
        "id": "YshTaB540V_R",
        "outputId": "79e03ded-2654-4c3a-db9e-d22e9ca5ac6b"
      },
      "outputs": [
        {
          "name": "stdout",
          "output_type": "stream",
          "text": [
            "Collecting tensorflow-addons\n",
            "  Downloading tensorflow_addons-0.21.0-cp310-cp310-manylinux_2_17_x86_64.manylinux2014_x86_64.whl (612 kB)\n",
            "\u001b[?25l     \u001b[90m━━━━━━━━━━━━━━━━━━━━━━━━━━━━━━━━━━━━━━━━\u001b[0m \u001b[32m0.0/612.1 kB\u001b[0m \u001b[31m?\u001b[0m eta \u001b[36m-:--:--\u001b[0m\r\u001b[2K     \u001b[91m━━━━━━━━━━━━━\u001b[0m\u001b[90m╺\u001b[0m\u001b[90m━━━━━━━━━━━━━━━━━━━━━━━━━━\u001b[0m \u001b[32m204.8/612.1 kB\u001b[0m \u001b[31m5.9 MB/s\u001b[0m eta \u001b[36m0:00:01\u001b[0m\r\u001b[2K     \u001b[91m━━━━━━━━━━━━━━━━━━━━━━━━━━━━━━━━━━━━━━━\u001b[0m\u001b[90m╺\u001b[0m \u001b[32m604.2/612.1 kB\u001b[0m \u001b[31m9.1 MB/s\u001b[0m eta \u001b[36m0:00:01\u001b[0m\r\u001b[2K     \u001b[90m━━━━━━━━━━━━━━━━━━━━━━━━━━━━━━━━━━━━━━━━\u001b[0m \u001b[32m612.1/612.1 kB\u001b[0m \u001b[31m8.2 MB/s\u001b[0m eta \u001b[36m0:00:00\u001b[0m\n",
            "\u001b[?25hRequirement already satisfied: packaging in /usr/local/lib/python3.10/dist-packages (from tensorflow-addons) (23.2)\n",
            "Collecting typeguard<3.0.0,>=2.7 (from tensorflow-addons)\n",
            "  Downloading typeguard-2.13.3-py3-none-any.whl (17 kB)\n",
            "Installing collected packages: typeguard, tensorflow-addons\n",
            "Successfully installed tensorflow-addons-0.21.0 typeguard-2.13.3\n"
          ]
        }
      ],
      "source": [
        "!pip install -U tensorflow-addons"
      ]
    },
    {
      "cell_type": "markdown",
      "metadata": {
        "id": "aHtEab4S2HzU"
      },
      "source": [
        "### 1. Import libraries"
      ]
    },
    {
      "cell_type": "code",
      "execution_count": null,
      "metadata": {
        "colab": {
          "base_uri": "https://localhost:8080/"
        },
        "id": "0-sczZSR2HzZ",
        "outputId": "36e4296b-cf28-4039-ab2c-9cdde43fcba1"
      },
      "outputs": [],
      "source": [
        "import numpy as np\n",
        "import tensorflow as tf\n",
        "from tensorflow import keras\n",
        "from keras import layers\n",
        "import matplotlib.pyplot as plt\n",
        "\n",
        "# from drive.MyDrive.CV_project.src.ViT import ViT_classifier\n",
        "from src.ViT import ViT_classifier"
      ]
    },
    {
      "cell_type": "code",
      "execution_count": 4,
      "metadata": {
        "id": "8eQLm0ZJ2Hzb"
      },
      "outputs": [],
      "source": [
        "import ssl\n",
        "\n",
        "ssl._create_default_https_context = ssl._create_unverified_context"
      ]
    },
    {
      "cell_type": "markdown",
      "metadata": {
        "id": "04POw8yy2Hzc"
      },
      "source": [
        "### 2. Data loading and preparation"
      ]
    },
    {
      "cell_type": "code",
      "execution_count": 5,
      "metadata": {
        "colab": {
          "base_uri": "https://localhost:8080/"
        },
        "id": "PxNGyeM-YIR5",
        "outputId": "42022857-9483-4c5a-8572-737bd32aedd5"
      },
      "outputs": [
        {
          "name": "stdout",
          "output_type": "stream",
          "text": [
            "Downloading data from https://www.cs.toronto.edu/~kriz/cifar-100-python.tar.gz\n",
            "169001437/169001437 [==============================] - 4s 0us/step\n"
          ]
        }
      ],
      "source": [
        "mode = \"coarse\"\n",
        "# mode = \"fine\"\n",
        "\n",
        "(x_train, y_train), (x_test, y_test) = keras.datasets.cifar100.load_data(\n",
        "    label_mode=mode\n",
        ")"
      ]
    },
    {
      "cell_type": "markdown",
      "metadata": {
        "id": "-tYHENVS2Hzh"
      },
      "source": [
        "### 3. Train ViT"
      ]
    },
    {
      "cell_type": "markdown",
      "metadata": {
        "id": "vYaWf6-32Hzd"
      },
      "source": [
        "#### Hyperparameters"
      ]
    },
    {
      "cell_type": "code",
      "execution_count": 6,
      "metadata": {
        "id": "tE-hWZew2Hze"
      },
      "outputs": [],
      "source": [
        "if mode == \"fine\":\n",
        "    num_classes = 100\n",
        "elif mode == \"coarse\":\n",
        "    num_classes = 20\n",
        "\n",
        "params = {\n",
        "    \"learning_rate\": 0.001,\n",
        "    \"weight_decay\": 0.0001,\n",
        "    \"MLP_dropout_rate\": 0.5,\n",
        "    \"TB_dropout_rate\": 0.6,\n",
        "    \"batch_size\": 256,\n",
        "    \"num_epochs\": 100,\n",
        "    \"input_shape\": (32, 32, 3),\n",
        "    \"num_classes\": num_classes,\n",
        "    \"image_size\": 72,  # We'll resize input images to this size\n",
        "    \"patch_size\": 6,  # Size of the patches to be extract from the input images\n",
        "    \"projection_dim\": 64,\n",
        "    \"num_heads\": 4,\n",
        "    \"transformer_units\": [128, 64],  # Size of the transformer layers\n",
        "    \"transformer_layers\": 8,\n",
        "    \"mlp_head_units\": [2048, 1024],  # Size of the dense layers of the final classifier\n",
        "}"
      ]
    },
    {
      "cell_type": "markdown",
      "metadata": {
        "id": "qX2zVYngjoYc"
      },
      "source": [
        "#### Training"
      ]
    },
    {
      "cell_type": "code",
      "execution_count": 7,
      "metadata": {
        "colab": {
          "base_uri": "https://localhost:8080/"
        },
        "id": "RaC4bSuu2Hzi",
        "outputId": "a47dd35d-510f-49b3-d105-8da0cb50c48a"
      },
      "outputs": [
        {
          "name": "stdout",
          "output_type": "stream",
          "text": [
            "Epoch 1/100\n",
            "176/176 [==============================] - 87s 367ms/step - loss: 2.8707 - accuracy: 0.1526 - top-5-accuracy: 0.4769 - val_loss: 2.4787 - val_accuracy: 0.2430 - val_top-5-accuracy: 0.6182\n",
            "Epoch 2/100\n",
            "176/176 [==============================] - 66s 374ms/step - loss: 2.5313 - accuracy: 0.2158 - top-5-accuracy: 0.5852 - val_loss: 2.3435 - val_accuracy: 0.2816 - val_top-5-accuracy: 0.6604\n",
            "Epoch 3/100\n",
            "176/176 [==============================] - 66s 374ms/step - loss: 2.4170 - accuracy: 0.2530 - top-5-accuracy: 0.6343 - val_loss: 2.2357 - val_accuracy: 0.3186 - val_top-5-accuracy: 0.6970\n",
            "Epoch 4/100\n",
            "176/176 [==============================] - 66s 373ms/step - loss: 2.3276 - accuracy: 0.2809 - top-5-accuracy: 0.6674 - val_loss: 2.1932 - val_accuracy: 0.3364 - val_top-5-accuracy: 0.7158\n",
            "Epoch 5/100\n",
            "176/176 [==============================] - 66s 375ms/step - loss: 2.2686 - accuracy: 0.2976 - top-5-accuracy: 0.6857 - val_loss: 2.1438 - val_accuracy: 0.3498 - val_top-5-accuracy: 0.7320\n",
            "Epoch 6/100\n",
            "176/176 [==============================] - 66s 375ms/step - loss: 2.2097 - accuracy: 0.3223 - top-5-accuracy: 0.7039 - val_loss: 2.0648 - val_accuracy: 0.3604 - val_top-5-accuracy: 0.7452\n",
            "Epoch 7/100\n",
            "176/176 [==============================] - 66s 376ms/step - loss: 2.1627 - accuracy: 0.3308 - top-5-accuracy: 0.7171 - val_loss: 2.0621 - val_accuracy: 0.3722 - val_top-5-accuracy: 0.7470\n",
            "Epoch 8/100\n",
            "176/176 [==============================] - 66s 373ms/step - loss: 2.1244 - accuracy: 0.3447 - top-5-accuracy: 0.7277 - val_loss: 1.9785 - val_accuracy: 0.3836 - val_top-5-accuracy: 0.7626\n",
            "Epoch 9/100\n",
            "176/176 [==============================] - 66s 376ms/step - loss: 2.0836 - accuracy: 0.3588 - top-5-accuracy: 0.7384 - val_loss: 1.9358 - val_accuracy: 0.4056 - val_top-5-accuracy: 0.7764\n",
            "Epoch 10/100\n",
            "176/176 [==============================] - 66s 376ms/step - loss: 2.0388 - accuracy: 0.3678 - top-5-accuracy: 0.7523 - val_loss: 1.8838 - val_accuracy: 0.4206 - val_top-5-accuracy: 0.7860\n",
            "Epoch 11/100\n",
            "176/176 [==============================] - 66s 374ms/step - loss: 1.9980 - accuracy: 0.3814 - top-5-accuracy: 0.7630 - val_loss: 1.8563 - val_accuracy: 0.4236 - val_top-5-accuracy: 0.7878\n",
            "Epoch 12/100\n",
            "176/176 [==============================] - 66s 374ms/step - loss: 1.9713 - accuracy: 0.3919 - top-5-accuracy: 0.7680 - val_loss: 1.8425 - val_accuracy: 0.4298 - val_top-5-accuracy: 0.7930\n",
            "Epoch 13/100\n",
            "176/176 [==============================] - 66s 375ms/step - loss: 1.9396 - accuracy: 0.4000 - top-5-accuracy: 0.7749 - val_loss: 1.8039 - val_accuracy: 0.4396 - val_top-5-accuracy: 0.8026\n",
            "Epoch 14/100\n",
            "176/176 [==============================] - 66s 376ms/step - loss: 1.8982 - accuracy: 0.4112 - top-5-accuracy: 0.7850 - val_loss: 1.7943 - val_accuracy: 0.4454 - val_top-5-accuracy: 0.8046\n",
            "Epoch 15/100\n",
            "176/176 [==============================] - 65s 367ms/step - loss: 1.8603 - accuracy: 0.4227 - top-5-accuracy: 0.7914 - val_loss: 1.7873 - val_accuracy: 0.4402 - val_top-5-accuracy: 0.8030\n",
            "Epoch 16/100\n",
            "176/176 [==============================] - 66s 375ms/step - loss: 1.8322 - accuracy: 0.4320 - top-5-accuracy: 0.8000 - val_loss: 1.7384 - val_accuracy: 0.4606 - val_top-5-accuracy: 0.8100\n",
            "Epoch 17/100\n",
            "176/176 [==============================] - 66s 375ms/step - loss: 1.7930 - accuracy: 0.4422 - top-5-accuracy: 0.8099 - val_loss: 1.7022 - val_accuracy: 0.4680 - val_top-5-accuracy: 0.8230\n",
            "Epoch 18/100\n",
            "176/176 [==============================] - 66s 374ms/step - loss: 1.7540 - accuracy: 0.4520 - top-5-accuracy: 0.8200 - val_loss: 1.6850 - val_accuracy: 0.4754 - val_top-5-accuracy: 0.8222\n",
            "Epoch 19/100\n",
            "176/176 [==============================] - 66s 373ms/step - loss: 1.7178 - accuracy: 0.4654 - top-5-accuracy: 0.8261 - val_loss: 1.6784 - val_accuracy: 0.4798 - val_top-5-accuracy: 0.8300\n",
            "Epoch 20/100\n",
            "176/176 [==============================] - 66s 373ms/step - loss: 1.6808 - accuracy: 0.4755 - top-5-accuracy: 0.8316 - val_loss: 1.6531 - val_accuracy: 0.4884 - val_top-5-accuracy: 0.8278\n",
            "Epoch 21/100\n",
            "176/176 [==============================] - 66s 375ms/step - loss: 1.6562 - accuracy: 0.4785 - top-5-accuracy: 0.8399 - val_loss: 1.6384 - val_accuracy: 0.4924 - val_top-5-accuracy: 0.8382\n",
            "Epoch 22/100\n",
            "176/176 [==============================] - 66s 374ms/step - loss: 1.6318 - accuracy: 0.4896 - top-5-accuracy: 0.8440 - val_loss: 1.6111 - val_accuracy: 0.5006 - val_top-5-accuracy: 0.8454\n",
            "Epoch 23/100\n",
            "176/176 [==============================] - 66s 375ms/step - loss: 1.6007 - accuracy: 0.4979 - top-5-accuracy: 0.8499 - val_loss: 1.6052 - val_accuracy: 0.5058 - val_top-5-accuracy: 0.8436\n",
            "Epoch 24/100\n",
            "176/176 [==============================] - 66s 375ms/step - loss: 1.5715 - accuracy: 0.5056 - top-5-accuracy: 0.8556 - val_loss: 1.5806 - val_accuracy: 0.5076 - val_top-5-accuracy: 0.8476\n",
            "Epoch 25/100\n",
            "176/176 [==============================] - 66s 375ms/step - loss: 1.5418 - accuracy: 0.5162 - top-5-accuracy: 0.8620 - val_loss: 1.5717 - val_accuracy: 0.5112 - val_top-5-accuracy: 0.8506\n",
            "Epoch 26/100\n",
            "176/176 [==============================] - 66s 373ms/step - loss: 1.5162 - accuracy: 0.5226 - top-5-accuracy: 0.8654 - val_loss: 1.5438 - val_accuracy: 0.5210 - val_top-5-accuracy: 0.8520\n",
            "Epoch 27/100\n",
            "176/176 [==============================] - 66s 373ms/step - loss: 1.4977 - accuracy: 0.5287 - top-5-accuracy: 0.8711 - val_loss: 1.5279 - val_accuracy: 0.5278 - val_top-5-accuracy: 0.8592\n",
            "Epoch 28/100\n",
            "176/176 [==============================] - 65s 369ms/step - loss: 1.4664 - accuracy: 0.5377 - top-5-accuracy: 0.8757 - val_loss: 1.5544 - val_accuracy: 0.5228 - val_top-5-accuracy: 0.8486\n",
            "Epoch 29/100\n",
            "176/176 [==============================] - 65s 368ms/step - loss: 1.4431 - accuracy: 0.5460 - top-5-accuracy: 0.8798 - val_loss: 1.5394 - val_accuracy: 0.5274 - val_top-5-accuracy: 0.8570\n",
            "Epoch 30/100\n",
            "176/176 [==============================] - 66s 373ms/step - loss: 1.4254 - accuracy: 0.5468 - top-5-accuracy: 0.8847 - val_loss: 1.5086 - val_accuracy: 0.5404 - val_top-5-accuracy: 0.8600\n",
            "Epoch 31/100\n",
            "176/176 [==============================] - 66s 373ms/step - loss: 1.4056 - accuracy: 0.5552 - top-5-accuracy: 0.8874 - val_loss: 1.5051 - val_accuracy: 0.5430 - val_top-5-accuracy: 0.8598\n",
            "Epoch 32/100\n",
            "176/176 [==============================] - 65s 368ms/step - loss: 1.3855 - accuracy: 0.5619 - top-5-accuracy: 0.8923 - val_loss: 1.5221 - val_accuracy: 0.5424 - val_top-5-accuracy: 0.8580\n",
            "Epoch 33/100\n",
            "176/176 [==============================] - 66s 375ms/step - loss: 1.3583 - accuracy: 0.5714 - top-5-accuracy: 0.8946 - val_loss: 1.5000 - val_accuracy: 0.5440 - val_top-5-accuracy: 0.8570\n",
            "Epoch 34/100\n",
            "176/176 [==============================] - 65s 369ms/step - loss: 1.3291 - accuracy: 0.5794 - top-5-accuracy: 0.9002 - val_loss: 1.4906 - val_accuracy: 0.5414 - val_top-5-accuracy: 0.8644\n",
            "Epoch 35/100\n",
            "176/176 [==============================] - 65s 369ms/step - loss: 1.3139 - accuracy: 0.5829 - top-5-accuracy: 0.9033 - val_loss: 1.4859 - val_accuracy: 0.5406 - val_top-5-accuracy: 0.8678\n",
            "Epoch 36/100\n",
            "176/176 [==============================] - 66s 373ms/step - loss: 1.2871 - accuracy: 0.5890 - top-5-accuracy: 0.9053 - val_loss: 1.4826 - val_accuracy: 0.5474 - val_top-5-accuracy: 0.8668\n",
            "Epoch 37/100\n",
            "176/176 [==============================] - 66s 373ms/step - loss: 1.2673 - accuracy: 0.5957 - top-5-accuracy: 0.9113 - val_loss: 1.4826 - val_accuracy: 0.5484 - val_top-5-accuracy: 0.8630\n",
            "Epoch 38/100\n",
            "176/176 [==============================] - 66s 375ms/step - loss: 1.2446 - accuracy: 0.6037 - top-5-accuracy: 0.9142 - val_loss: 1.5008 - val_accuracy: 0.5492 - val_top-5-accuracy: 0.8620\n",
            "Epoch 39/100\n",
            "176/176 [==============================] - 66s 375ms/step - loss: 1.2340 - accuracy: 0.6046 - top-5-accuracy: 0.9170 - val_loss: 1.4692 - val_accuracy: 0.5548 - val_top-5-accuracy: 0.8674\n",
            "Epoch 40/100\n",
            "176/176 [==============================] - 65s 369ms/step - loss: 1.2145 - accuracy: 0.6109 - top-5-accuracy: 0.9187 - val_loss: 1.4866 - val_accuracy: 0.5518 - val_top-5-accuracy: 0.8632\n",
            "Epoch 41/100\n",
            "176/176 [==============================] - 65s 369ms/step - loss: 1.1966 - accuracy: 0.6185 - top-5-accuracy: 0.9200 - val_loss: 1.4931 - val_accuracy: 0.5526 - val_top-5-accuracy: 0.8588\n",
            "Epoch 42/100\n",
            "176/176 [==============================] - 66s 374ms/step - loss: 1.1764 - accuracy: 0.6239 - top-5-accuracy: 0.9237 - val_loss: 1.4721 - val_accuracy: 0.5554 - val_top-5-accuracy: 0.8652\n",
            "Epoch 43/100\n",
            "176/176 [==============================] - 65s 369ms/step - loss: 1.1515 - accuracy: 0.6316 - top-5-accuracy: 0.9280 - val_loss: 1.4779 - val_accuracy: 0.5554 - val_top-5-accuracy: 0.8622\n",
            "Epoch 44/100\n",
            "176/176 [==============================] - 66s 375ms/step - loss: 1.1453 - accuracy: 0.6319 - top-5-accuracy: 0.9282 - val_loss: 1.4761 - val_accuracy: 0.5578 - val_top-5-accuracy: 0.8680\n",
            "Epoch 45/100\n",
            "176/176 [==============================] - 66s 377ms/step - loss: 1.1331 - accuracy: 0.6356 - top-5-accuracy: 0.9287 - val_loss: 1.4843 - val_accuracy: 0.5616 - val_top-5-accuracy: 0.8662\n",
            "Epoch 46/100\n",
            "176/176 [==============================] - 65s 368ms/step - loss: 1.0988 - accuracy: 0.6474 - top-5-accuracy: 0.9344 - val_loss: 1.4855 - val_accuracy: 0.5572 - val_top-5-accuracy: 0.8638\n",
            "Epoch 47/100\n",
            "176/176 [==============================] - 66s 378ms/step - loss: 1.0862 - accuracy: 0.6505 - top-5-accuracy: 0.9359 - val_loss: 1.4668 - val_accuracy: 0.5626 - val_top-5-accuracy: 0.8674\n",
            "Epoch 48/100\n",
            "176/176 [==============================] - 66s 374ms/step - loss: 1.0788 - accuracy: 0.6515 - top-5-accuracy: 0.9379 - val_loss: 1.4777 - val_accuracy: 0.5636 - val_top-5-accuracy: 0.8696\n",
            "Epoch 49/100\n",
            "176/176 [==============================] - 66s 374ms/step - loss: 1.0646 - accuracy: 0.6587 - top-5-accuracy: 0.9391 - val_loss: 1.4931 - val_accuracy: 0.5680 - val_top-5-accuracy: 0.8696\n",
            "Epoch 50/100\n",
            "176/176 [==============================] - 66s 373ms/step - loss: 1.0440 - accuracy: 0.6620 - top-5-accuracy: 0.9426 - val_loss: 1.4735 - val_accuracy: 0.5714 - val_top-5-accuracy: 0.8718\n",
            "Epoch 51/100\n",
            "176/176 [==============================] - 66s 375ms/step - loss: 1.0255 - accuracy: 0.6688 - top-5-accuracy: 0.9462 - val_loss: 1.4783 - val_accuracy: 0.5738 - val_top-5-accuracy: 0.8712\n",
            "Epoch 52/100\n",
            "176/176 [==============================] - 65s 369ms/step - loss: 1.0098 - accuracy: 0.6738 - top-5-accuracy: 0.9475 - val_loss: 1.4734 - val_accuracy: 0.5684 - val_top-5-accuracy: 0.8686\n",
            "Epoch 53/100\n",
            "176/176 [==============================] - 65s 368ms/step - loss: 0.9984 - accuracy: 0.6770 - top-5-accuracy: 0.9480 - val_loss: 1.4805 - val_accuracy: 0.5698 - val_top-5-accuracy: 0.8690\n",
            "Epoch 54/100\n",
            "176/176 [==============================] - 65s 368ms/step - loss: 0.9827 - accuracy: 0.6818 - top-5-accuracy: 0.9511 - val_loss: 1.4711 - val_accuracy: 0.5712 - val_top-5-accuracy: 0.8666\n",
            "Epoch 55/100\n",
            "176/176 [==============================] - 65s 368ms/step - loss: 0.9769 - accuracy: 0.6849 - top-5-accuracy: 0.9497 - val_loss: 1.4931 - val_accuracy: 0.5618 - val_top-5-accuracy: 0.8656\n",
            "Epoch 56/100\n",
            "176/176 [==============================] - 65s 368ms/step - loss: 0.9567 - accuracy: 0.6897 - top-5-accuracy: 0.9518 - val_loss: 1.5050 - val_accuracy: 0.5632 - val_top-5-accuracy: 0.8684\n",
            "Epoch 57/100\n",
            "176/176 [==============================] - 65s 369ms/step - loss: 0.9497 - accuracy: 0.6920 - top-5-accuracy: 0.9539 - val_loss: 1.4902 - val_accuracy: 0.5644 - val_top-5-accuracy: 0.8638\n",
            "Epoch 58/100\n",
            "176/176 [==============================] - 65s 368ms/step - loss: 0.9393 - accuracy: 0.6973 - top-5-accuracy: 0.9544 - val_loss: 1.4885 - val_accuracy: 0.5718 - val_top-5-accuracy: 0.8648\n",
            "Epoch 59/100\n",
            "176/176 [==============================] - 65s 368ms/step - loss: 0.9206 - accuracy: 0.7024 - top-5-accuracy: 0.9568 - val_loss: 1.5022 - val_accuracy: 0.5684 - val_top-5-accuracy: 0.8700\n",
            "Epoch 60/100\n",
            "176/176 [==============================] - 65s 368ms/step - loss: 0.9100 - accuracy: 0.7046 - top-5-accuracy: 0.9581 - val_loss: 1.5156 - val_accuracy: 0.5642 - val_top-5-accuracy: 0.8640\n",
            "Epoch 61/100\n",
            "176/176 [==============================] - 65s 368ms/step - loss: 0.9080 - accuracy: 0.7088 - top-5-accuracy: 0.9590 - val_loss: 1.5290 - val_accuracy: 0.5704 - val_top-5-accuracy: 0.8636\n",
            "Epoch 62/100\n",
            "176/176 [==============================] - 65s 367ms/step - loss: 0.8977 - accuracy: 0.7095 - top-5-accuracy: 0.9590 - val_loss: 1.5123 - val_accuracy: 0.5696 - val_top-5-accuracy: 0.8638\n",
            "Epoch 63/100\n",
            "176/176 [==============================] - 65s 368ms/step - loss: 0.8731 - accuracy: 0.7177 - top-5-accuracy: 0.9614 - val_loss: 1.5654 - val_accuracy: 0.5680 - val_top-5-accuracy: 0.8660\n",
            "Epoch 64/100\n",
            "176/176 [==============================] - 65s 368ms/step - loss: 0.8699 - accuracy: 0.7145 - top-5-accuracy: 0.9617 - val_loss: 1.5297 - val_accuracy: 0.5722 - val_top-5-accuracy: 0.8656\n",
            "Epoch 65/100\n",
            "176/176 [==============================] - 65s 368ms/step - loss: 0.8623 - accuracy: 0.7194 - top-5-accuracy: 0.9633 - val_loss: 1.5239 - val_accuracy: 0.5706 - val_top-5-accuracy: 0.8678\n",
            "Epoch 66/100\n",
            "176/176 [==============================] - 65s 368ms/step - loss: 0.8609 - accuracy: 0.7209 - top-5-accuracy: 0.9635 - val_loss: 1.5357 - val_accuracy: 0.5688 - val_top-5-accuracy: 0.8630\n",
            "Epoch 67/100\n",
            "176/176 [==============================] - 65s 369ms/step - loss: 0.8434 - accuracy: 0.7253 - top-5-accuracy: 0.9654 - val_loss: 1.5389 - val_accuracy: 0.5736 - val_top-5-accuracy: 0.8588\n",
            "Epoch 68/100\n",
            "176/176 [==============================] - 65s 368ms/step - loss: 0.8381 - accuracy: 0.7272 - top-5-accuracy: 0.9642 - val_loss: 1.5414 - val_accuracy: 0.5714 - val_top-5-accuracy: 0.8610\n",
            "Epoch 69/100\n",
            "176/176 [==============================] - 65s 369ms/step - loss: 0.8335 - accuracy: 0.7315 - top-5-accuracy: 0.9666 - val_loss: 1.5330 - val_accuracy: 0.5720 - val_top-5-accuracy: 0.8678\n",
            "Epoch 70/100\n",
            "176/176 [==============================] - 65s 368ms/step - loss: 0.8183 - accuracy: 0.7325 - top-5-accuracy: 0.9675 - val_loss: 1.5326 - val_accuracy: 0.5678 - val_top-5-accuracy: 0.8680\n",
            "Epoch 71/100\n",
            "176/176 [==============================] - 65s 368ms/step - loss: 0.8159 - accuracy: 0.7328 - top-5-accuracy: 0.9670 - val_loss: 1.5457 - val_accuracy: 0.5672 - val_top-5-accuracy: 0.8626\n",
            "Epoch 72/100\n",
            "176/176 [==============================] - 65s 369ms/step - loss: 0.8045 - accuracy: 0.7360 - top-5-accuracy: 0.9667 - val_loss: 1.5614 - val_accuracy: 0.5708 - val_top-5-accuracy: 0.8606\n",
            "Epoch 73/100\n",
            "176/176 [==============================] - 65s 368ms/step - loss: 0.7954 - accuracy: 0.7412 - top-5-accuracy: 0.9686 - val_loss: 1.5574 - val_accuracy: 0.5712 - val_top-5-accuracy: 0.8636\n",
            "Epoch 74/100\n",
            "176/176 [==============================] - 65s 369ms/step - loss: 0.7869 - accuracy: 0.7437 - top-5-accuracy: 0.9704 - val_loss: 1.5642 - val_accuracy: 0.5718 - val_top-5-accuracy: 0.8644\n",
            "Epoch 75/100\n",
            "176/176 [==============================] - 65s 369ms/step - loss: 0.7760 - accuracy: 0.7466 - top-5-accuracy: 0.9708 - val_loss: 1.5771 - val_accuracy: 0.5658 - val_top-5-accuracy: 0.8650\n",
            "Epoch 76/100\n",
            "176/176 [==============================] - 65s 368ms/step - loss: 0.7740 - accuracy: 0.7493 - top-5-accuracy: 0.9704 - val_loss: 1.5766 - val_accuracy: 0.5702 - val_top-5-accuracy: 0.8544\n",
            "Epoch 77/100\n",
            "176/176 [==============================] - 65s 368ms/step - loss: 0.7701 - accuracy: 0.7482 - top-5-accuracy: 0.9722 - val_loss: 1.5551 - val_accuracy: 0.5710 - val_top-5-accuracy: 0.8620\n",
            "Epoch 78/100\n",
            "176/176 [==============================] - 65s 369ms/step - loss: 0.7638 - accuracy: 0.7526 - top-5-accuracy: 0.9719 - val_loss: 1.5571 - val_accuracy: 0.5736 - val_top-5-accuracy: 0.8604\n",
            "Epoch 79/100\n",
            "176/176 [==============================] - 65s 369ms/step - loss: 0.7466 - accuracy: 0.7562 - top-5-accuracy: 0.9736 - val_loss: 1.5795 - val_accuracy: 0.5686 - val_top-5-accuracy: 0.8656\n",
            "Epoch 80/100\n",
            "176/176 [==============================] - 65s 368ms/step - loss: 0.7441 - accuracy: 0.7575 - top-5-accuracy: 0.9734 - val_loss: 1.5875 - val_accuracy: 0.5682 - val_top-5-accuracy: 0.8652\n",
            "Epoch 81/100\n",
            "176/176 [==============================] - 66s 375ms/step - loss: 0.7333 - accuracy: 0.7595 - top-5-accuracy: 0.9745 - val_loss: 1.5741 - val_accuracy: 0.5798 - val_top-5-accuracy: 0.8712\n",
            "Epoch 82/100\n",
            "176/176 [==============================] - 65s 369ms/step - loss: 0.7279 - accuracy: 0.7657 - top-5-accuracy: 0.9743 - val_loss: 1.6000 - val_accuracy: 0.5752 - val_top-5-accuracy: 0.8616\n",
            "Epoch 83/100\n",
            "176/176 [==============================] - 65s 368ms/step - loss: 0.7289 - accuracy: 0.7624 - top-5-accuracy: 0.9745 - val_loss: 1.5912 - val_accuracy: 0.5740 - val_top-5-accuracy: 0.8576\n",
            "Epoch 84/100\n",
            "176/176 [==============================] - 65s 369ms/step - loss: 0.7161 - accuracy: 0.7667 - top-5-accuracy: 0.9764 - val_loss: 1.5834 - val_accuracy: 0.5680 - val_top-5-accuracy: 0.8610\n",
            "Epoch 85/100\n",
            "176/176 [==============================] - 65s 368ms/step - loss: 0.7248 - accuracy: 0.7632 - top-5-accuracy: 0.9750 - val_loss: 1.5719 - val_accuracy: 0.5750 - val_top-5-accuracy: 0.8624\n",
            "Epoch 86/100\n",
            "176/176 [==============================] - 65s 368ms/step - loss: 0.7103 - accuracy: 0.7683 - top-5-accuracy: 0.9748 - val_loss: 1.5567 - val_accuracy: 0.5772 - val_top-5-accuracy: 0.8666\n",
            "Epoch 87/100\n",
            "176/176 [==============================] - 65s 369ms/step - loss: 0.7093 - accuracy: 0.7694 - top-5-accuracy: 0.9766 - val_loss: 1.5868 - val_accuracy: 0.5794 - val_top-5-accuracy: 0.8680\n",
            "Epoch 88/100\n",
            "176/176 [==============================] - 65s 369ms/step - loss: 0.7013 - accuracy: 0.7717 - top-5-accuracy: 0.9767 - val_loss: 1.5805 - val_accuracy: 0.5752 - val_top-5-accuracy: 0.8602\n",
            "Epoch 89/100\n",
            "176/176 [==============================] - 65s 368ms/step - loss: 0.6940 - accuracy: 0.7751 - top-5-accuracy: 0.9764 - val_loss: 1.6244 - val_accuracy: 0.5750 - val_top-5-accuracy: 0.8682\n",
            "Epoch 90/100\n",
            "176/176 [==============================] - 65s 367ms/step - loss: 0.6907 - accuracy: 0.7730 - top-5-accuracy: 0.9770 - val_loss: 1.5867 - val_accuracy: 0.5718 - val_top-5-accuracy: 0.8642\n",
            "Epoch 91/100\n",
            "176/176 [==============================] - 65s 368ms/step - loss: 0.6852 - accuracy: 0.7770 - top-5-accuracy: 0.9779 - val_loss: 1.5745 - val_accuracy: 0.5716 - val_top-5-accuracy: 0.8648\n",
            "Epoch 92/100\n",
            "176/176 [==============================] - 65s 369ms/step - loss: 0.6816 - accuracy: 0.7767 - top-5-accuracy: 0.9781 - val_loss: 1.5816 - val_accuracy: 0.5694 - val_top-5-accuracy: 0.8638\n",
            "Epoch 93/100\n",
            "176/176 [==============================] - 65s 368ms/step - loss: 0.6786 - accuracy: 0.7790 - top-5-accuracy: 0.9780 - val_loss: 1.5700 - val_accuracy: 0.5752 - val_top-5-accuracy: 0.8702\n",
            "Epoch 94/100\n",
            "176/176 [==============================] - 65s 369ms/step - loss: 0.6844 - accuracy: 0.7750 - top-5-accuracy: 0.9789 - val_loss: 1.5777 - val_accuracy: 0.5732 - val_top-5-accuracy: 0.8604\n",
            "Epoch 95/100\n",
            "176/176 [==============================] - 65s 367ms/step - loss: 0.6654 - accuracy: 0.7841 - top-5-accuracy: 0.9801 - val_loss: 1.5763 - val_accuracy: 0.5792 - val_top-5-accuracy: 0.8644\n",
            "Epoch 96/100\n",
            "176/176 [==============================] - 65s 369ms/step - loss: 0.6669 - accuracy: 0.7820 - top-5-accuracy: 0.9796 - val_loss: 1.5959 - val_accuracy: 0.5746 - val_top-5-accuracy: 0.8630\n",
            "Epoch 97/100\n",
            "176/176 [==============================] - 65s 369ms/step - loss: 0.6627 - accuracy: 0.7842 - top-5-accuracy: 0.9801 - val_loss: 1.5795 - val_accuracy: 0.5762 - val_top-5-accuracy: 0.8666\n",
            "Epoch 98/100\n",
            "176/176 [==============================] - 65s 369ms/step - loss: 0.6654 - accuracy: 0.7817 - top-5-accuracy: 0.9790 - val_loss: 1.5809 - val_accuracy: 0.5766 - val_top-5-accuracy: 0.8674\n",
            "Epoch 99/100\n",
            "176/176 [==============================] - 66s 375ms/step - loss: 0.6552 - accuracy: 0.7857 - top-5-accuracy: 0.9810 - val_loss: 1.6098 - val_accuracy: 0.5822 - val_top-5-accuracy: 0.8712\n",
            "Epoch 100/100\n",
            "176/176 [==============================] - 65s 368ms/step - loss: 0.6571 - accuracy: 0.7852 - top-5-accuracy: 0.9803 - val_loss: 1.5779 - val_accuracy: 0.5736 - val_top-5-accuracy: 0.8622\n",
            "313/313 [==============================] - 8s 25ms/step - loss: 1.5609 - accuracy: 0.5862 - top-5-accuracy: 0.8762\n",
            "Test accuracy: 58.62%\n",
            "Test top 5 accuracy: 87.62%\n"
          ]
        }
      ],
      "source": [
        "ViT = ViT_classifier(params=params)\n",
        "history = ViT.train(x_train=x_train, x_test=x_test, y_train=y_train, y_test=y_test)"
      ]
    },
    {
      "cell_type": "markdown",
      "metadata": {
        "id": "ueScZ7urkIoe"
      },
      "source": [
        "#### Save model"
      ]
    },
    {
      "cell_type": "code",
      "execution_count": 8,
      "metadata": {
        "id": "lfSVA4qv2Hzi"
      },
      "outputs": [],
      "source": [
        "ViT.model.save(f\"drive/MyDrive/CV_project/ViT_model_{mode}\")"
      ]
    },
    {
      "cell_type": "code",
      "execution_count": null,
      "metadata": {
        "id": "XXussbHolryD"
      },
      "outputs": [],
      "source": [
        "plt.plot(history)"
      ]
    },
    {
      "cell_type": "markdown",
      "metadata": {
        "id": "sWFRjY5Njp9z"
      },
      "source": [
        "### 5. Show results"
      ]
    },
    {
      "cell_type": "code",
      "execution_count": null,
      "metadata": {
        "id": "u0WYWHDrY8eu"
      },
      "outputs": [],
      "source": [
        "file = \"drive/MyDrive/CV_Transformer/cifar-100-python/meta\"\n",
        "\n",
        "\n",
        "def unpickle(file):\n",
        "    import pickle\n",
        "\n",
        "    with open(file, \"rb\") as fo:\n",
        "        dict = pickle.load(fo, encoding=\"bytes\")\n",
        "    return dict\n",
        "\n",
        "\n",
        "dict = unpickle(file)\n",
        "fine_label_names = dict[b\"fine_label_names\"]\n",
        "coarse_label_names = dict[b\"coarse_label_names\"]"
      ]
    },
    {
      "cell_type": "code",
      "execution_count": null,
      "metadata": {
        "id": "ASzeLe42aHNh"
      },
      "outputs": [],
      "source": [
        "model = tf.keras.models.load_model(f\"ViT_model_{mode}\")"
      ]
    }
  ],
  "metadata": {
    "accelerator": "GPU",
    "colab": {
      "collapsed_sections": [
        "aHtEab4S2HzU",
        "04POw8yy2Hzc",
        "vYaWf6-32Hzd",
        "qX2zVYngjoYc",
        "ueScZ7urkIoe",
        "0wBQ4tNVjxRS",
        "DE765ONgkCg3",
        "Jo84CLVUkEDa",
        "sWFRjY5Njp9z",
        "wBkGSvmf2Hze"
      ],
      "provenance": []
    },
    "kernelspec": {
      "display_name": "Python 3",
      "name": "python3"
    },
    "language_info": {
      "codemirror_mode": {
        "name": "ipython",
        "version": 3
      },
      "file_extension": ".py",
      "mimetype": "text/x-python",
      "name": "python",
      "nbconvert_exporter": "python",
      "pygments_lexer": "ipython3",
      "version": "3.10.13"
    }
  },
  "nbformat": 4,
  "nbformat_minor": 0
}
