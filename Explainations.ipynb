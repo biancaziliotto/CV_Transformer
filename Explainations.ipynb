{
  "nbformat": 4,
  "nbformat_minor": 0,
  "metadata": {
    "colab": {
      "provenance": [],
      "authorship_tag": "ABX9TyPYrVr/A0ib2ZlgGevrEW2J",
      "include_colab_link": true
    },
    "kernelspec": {
      "name": "python3",
      "display_name": "Python 3"
    },
    "language_info": {
      "name": "python"
    }
  },
  "cells": [
    {
      "cell_type": "markdown",
      "metadata": {
        "id": "view-in-github",
        "colab_type": "text"
      },
      "source": [
        "<a href=\"https://colab.research.google.com/github/biancaziliotto/ComputerVisionProject/blob/main/Explainations.ipynb\" target=\"_parent\"><img src=\"https://colab.research.google.com/assets/colab-badge.svg\" alt=\"Open In Colab\"/></a>"
      ]
    },
    {
      "cell_type": "markdown",
      "source": [
        "Dataset : **E-SNLI**. \\\\\n",
        "Model : **Small T5**."
      ],
      "metadata": {
        "id": "4H972d7y9V7J"
      }
    },
    {
      "cell_type": "code",
      "source": [
        "!pip install datasets\n",
        "!pip install transformers\n",
        "!pip install sentencepiece"
      ],
      "metadata": {
        "id": "v6Zhdwje9_yE"
      },
      "execution_count": null,
      "outputs": []
    },
    {
      "cell_type": "code",
      "execution_count": null,
      "metadata": {
        "id": "0kOOUYl19UHq"
      },
      "outputs": [],
      "source": [
        "from datasets import load_dataset\n",
        "\n",
        "dataset = load_dataset(\"esnli\")"
      ]
    },
    {
      "cell_type": "code",
      "source": [
        "from transformers import T5Tokenizer, T5ForConditionalGeneration\n",
        "\n",
        "tokenizer = T5Tokenizer.from_pretrained(\"t5-small\")\n",
        "model = T5ForConditionalGeneration.from_pretrained(\"t5-small\")"
      ],
      "metadata": {
        "id": "jyczhxOR-jwU"
      },
      "execution_count": null,
      "outputs": []
    },
    {
      "cell_type": "markdown",
      "source": [
        "Test **zero-shot** on a random task."
      ],
      "metadata": {
        "id": "g1nc40MHGQQx"
      }
    },
    {
      "cell_type": "code",
      "source": [
        "input_ids = tokenizer(\"translate English to French: Hello Dre, I think the English version is ok for us.\", return_tensors=\"pt\").input_ids\n",
        "outputs = model.generate(input_ids)\n",
        "\n",
        "print(tokenizer.decode(outputs[0], skip_special_tokens=True, max_length = 100))"
      ],
      "metadata": {
        "colab": {
          "base_uri": "https://localhost:8080/"
        },
        "id": "CKG-so0--7ug",
        "outputId": "38dfed95-b25b-4e87-9276-94e555ffeaae"
      },
      "execution_count": 37,
      "outputs": [
        {
          "output_type": "stream",
          "name": "stdout",
          "text": [
            "Bonjour Dre, je pense que la version anglaise est bonne pour nous.\n"
          ]
        }
      ]
    },
    {
      "cell_type": "markdown",
      "source": [
        "Test **zero-shot** on E-SNLI."
      ],
      "metadata": {
        "id": "FW6cxnP7HrMi"
      }
    },
    {
      "cell_type": "code",
      "source": [
        "dataset['test'][0]"
      ],
      "metadata": {
        "id": "BZILJcgoDO9b",
        "colab": {
          "base_uri": "https://localhost:8080/"
        },
        "outputId": "0be6311d-1473-47db-c9e2-fed580dca801"
      },
      "execution_count": 40,
      "outputs": [
        {
          "output_type": "execute_result",
          "data": {
            "text/plain": [
              "{'premise': 'This church choir sings to the masses as they sing joyous songs from the book at a church.',\n",
              " 'hypothesis': 'The church has cracks in the ceiling.',\n",
              " 'label': 1,\n",
              " 'explanation_1': 'Not all churches have cracks in the ceiling',\n",
              " 'explanation_2': 'There is no indication that there are cracks in the ceiling of the church.',\n",
              " 'explanation_3': 'Not all churches have cracks in the ceiling.'}"
            ]
          },
          "metadata": {},
          "execution_count": 40
        }
      ]
    },
    {
      "cell_type": "code",
      "source": [
        "instruction = 'Entailment, Neutral, or Contradiction? '"
      ],
      "metadata": {
        "id": "7D2MQG6qJYnI"
      },
      "execution_count": 69,
      "outputs": []
    },
    {
      "cell_type": "code",
      "source": [
        "prompt = instruction + 'Premise: ' + dataset['test'][0]['premise'] + ' Hypothesis: ' + dataset['test'][0]['hypothesis']\n",
        "prompt"
      ],
      "metadata": {
        "colab": {
          "base_uri": "https://localhost:8080/",
          "height": 52
        },
        "id": "wDeo2zPbLohH",
        "outputId": "2750c98d-b536-4608-e321-6f537a82c884"
      },
      "execution_count": 74,
      "outputs": [
        {
          "output_type": "execute_result",
          "data": {
            "text/plain": [
              "'Entailment, Neutral, or Contradiction? Premise: This church choir sings to the masses as they sing joyous songs from the book at a church. Hypothesis: The church has cracks in the ceiling.'"
            ],
            "application/vnd.google.colaboratory.intrinsic+json": {
              "type": "string"
            }
          },
          "metadata": {},
          "execution_count": 74
        }
      ]
    },
    {
      "cell_type": "code",
      "source": [
        "input_ids = tokenizer(prompt, return_tensors= \"pt\").input_ids\n",
        "\n",
        "outputs = model.generate(input_ids)\n",
        "\n",
        "print(tokenizer.decode(outputs[0], skip_special_tokens=True))"
      ],
      "metadata": {
        "colab": {
          "base_uri": "https://localhost:8080/"
        },
        "id": "C1roa6HcIi3e",
        "outputId": "521862a6-40d6-4979-f9ed-34071eac41f5"
      },
      "execution_count": 75,
      "outputs": [
        {
          "output_type": "stream",
          "name": "stdout",
          "text": [
            "The church has cracks in the ceiling. Hypothesis: The church has cracks in\n"
          ]
        }
      ]
    },
    {
      "cell_type": "markdown",
      "source": [
        "OK c'è qualcosa che mi sfugge :-)"
      ],
      "metadata": {
        "id": "H3kWMfiuXGHw"
      }
    }
  ]
}